{
 "cells": [
  {
   "cell_type": "code",
   "execution_count": 2,
   "id": "054845c2-b448-4262-9baa-54ec26f60469",
   "metadata": {},
   "outputs": [],
   "source": [
    "#Housing Burden and Poverty Status of Fire Affected Areas\n",
    "#Gina Ranieri\n",
    "#An analysis of census data of variables affecting poverty status and rent burden by race"
   ]
  },
  {
   "cell_type": "code",
   "execution_count": 3,
   "id": "d71e14a1-a1c1-4140-b63d-21ac186b4653",
   "metadata": {},
   "outputs": [],
   "source": [
    "#importing libraries"
   ]
  },
  {
   "cell_type": "code",
   "execution_count": 4,
   "id": "2fafc389-40c5-435c-b360-4fc3877db92b",
   "metadata": {},
   "outputs": [],
   "source": [
    "import pandas as pd"
   ]
  },
  {
   "cell_type": "code",
   "execution_count": 6,
   "id": "da5f9ba9-90aa-4b99-8fa0-db3748eda547",
   "metadata": {},
   "outputs": [],
   "source": [
    "import geopandas as gpd"
   ]
  },
  {
   "cell_type": "code",
   "execution_count": 7,
   "id": "0e9d5f37-2cb9-4e1b-bb6b-caadef31f6ba",
   "metadata": {},
   "outputs": [],
   "source": [
    "#loading census file"
   ]
  },
  {
   "cell_type": "code",
   "execution_count": null,
   "id": "77f4002a-3896-414c-8219-cd1dc68a9fb4",
   "metadata": {},
   "outputs": [],
   "source": []
  }
 ],
 "metadata": {
  "kernelspec": {
   "display_name": "Python 3 (ipykernel)",
   "language": "python",
   "name": "python3"
  },
  "language_info": {
   "codemirror_mode": {
    "name": "ipython",
    "version": 3
   },
   "file_extension": ".py",
   "mimetype": "text/x-python",
   "name": "python",
   "nbconvert_exporter": "python",
   "pygments_lexer": "ipython3",
   "version": "3.11.9"
  }
 },
 "nbformat": 4,
 "nbformat_minor": 5
}
